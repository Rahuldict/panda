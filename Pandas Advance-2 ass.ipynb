{
 "cells": [
  {
   "cell_type": "markdown",
   "id": "6adb800a-a521-4825-b679-3820c0ac3e61",
   "metadata": {},
   "source": [
    "Consider following code to answer further questions:\n",
    "import pandas as pd\n",
    "course_name = [‘Data Science’, ‘Machine Learning’, ‘Big Data’, ‘Data Engineer’]\n",
    "duration = [2,3,6,4]\n",
    "df = pd.DataFrame(data = {‘course_name’ : course_name, ‘duration’ : duration})"
   ]
  },
  {
   "cell_type": "code",
   "execution_count": 32,
   "id": "db496063-12c2-4247-b8cc-e03d43173978",
   "metadata": {},
   "outputs": [],
   "source": [
    "# Q1. Write a code to print the data present in the second row of the dataframe, df.\n"
   ]
  },
  {
   "cell_type": "code",
   "execution_count": 33,
   "id": "82dda47a-e1b2-4f41-b8ed-e0e206aa89a8",
   "metadata": {},
   "outputs": [],
   "source": [
    "import pandas as pd\n",
    "course_name = ['Data Science', 'Machine Learning', 'Big Data', 'Data Engineer']\n",
    "duration = [2,3,6,4]\n",
    "df = pd.DataFrame(data = {'course_name' : course_name, 'duration' : duration})"
   ]
  },
  {
   "cell_type": "code",
   "execution_count": 34,
   "id": "7eed6e83-05bd-45d0-be5b-0996bc8c7554",
   "metadata": {},
   "outputs": [
    {
     "name": "stdout",
     "output_type": "stream",
     "text": [
      "course_name    Machine Learning\n",
      "duration                      3\n",
      "Name: 1, dtype: object\n"
     ]
    }
   ],
   "source": [
    "# Printing the data in the second row of the DataFrame df\n",
    "second_row_data = df.iloc[1]\n",
    "print(second_row_data)\n"
   ]
  },
  {
   "cell_type": "code",
   "execution_count": 35,
   "id": "18c76b2d-87e9-4a0b-a2da-0d20519e4fb9",
   "metadata": {},
   "outputs": [],
   "source": [
    "#Q2. What is the difference between the functions loc and iloc in pandas.DataFrame?"
   ]
  },
  {
   "cell_type": "code",
   "execution_count": 36,
   "id": "3b7d9689-f696-47fd-a011-7e55b9378759",
   "metadata": {},
   "outputs": [
    {
     "data": {
      "text/plain": [
       "'Machine Learning'"
      ]
     },
     "execution_count": 36,
     "metadata": {},
     "output_type": "execute_result"
    }
   ],
   "source": [
    "df.loc[1, 'course_name']  # Accesses the data at row 1 and column 'course_name'\n"
   ]
  },
  {
   "cell_type": "code",
   "execution_count": 37,
   "id": "6094026e-32ea-4e28-b6d9-e66c8610a583",
   "metadata": {},
   "outputs": [
    {
     "data": {
      "text/plain": [
       "'Machine Learning'"
      ]
     },
     "execution_count": 37,
     "metadata": {},
     "output_type": "execute_result"
    }
   ],
   "source": [
    "df.iloc[1, 0]  # Accesses the data at row 1 and column 0 (index-based)\n"
   ]
  },
  {
   "cell_type": "code",
   "execution_count": 38,
   "id": "e629d159-19d1-48df-8364-363c93d6a9d5",
   "metadata": {},
   "outputs": [],
   "source": [
    "#Q3. Reindex the given dataframe using a variable, reindex = [3,0,1,2] and store it in the variable, new_df then find the output for both new_df.loc[2] and new_df.iloc[2]."
   ]
  },
  {
   "cell_type": "code",
   "execution_count": 39,
   "id": "1ae31974-d678-441e-a247-7394638d737a",
   "metadata": {},
   "outputs": [
    {
     "name": "stdout",
     "output_type": "stream",
     "text": [
      "Output of new_df.loc[2]:\n",
      "course_name    Big Data\n",
      "duration              6\n",
      "Name: 2, dtype: object\n",
      "\n",
      "Output of new_df.iloc[2]:\n",
      "course_name    Machine Learning\n",
      "duration                      3\n",
      "Name: 1, dtype: object\n"
     ]
    }
   ],
   "source": [
    "import pandas as pd\n",
    "\n",
    "course_name = ['Data Science', 'Machine Learning', 'Big Data', 'Data Engineer']\n",
    "duration = [2, 3, 6, 4]\n",
    "df = pd.DataFrame(data={'course_name': course_name, 'duration': duration})\n",
    "\n",
    "# Define the reindex list\n",
    "reindex = [3, 0, 1, 2]\n",
    "\n",
    "# Reindex the DataFrame and store it in new_df\n",
    "new_df = df.reindex(reindex)\n",
    "\n",
    "# Output of new_df.loc[2]\n",
    "output_loc = new_df.loc[2]\n",
    "\n",
    "# Output of new_df.iloc[2]\n",
    "output_iloc = new_df.iloc[2]\n",
    "\n",
    "print(\"Output of new_df.loc[2]:\")\n",
    "print(output_loc)\n",
    "print(\"\\nOutput of new_df.iloc[2]:\")\n",
    "print(output_iloc)\n"
   ]
  },
  {
   "cell_type": "code",
   "execution_count": 40,
   "id": "433b075c-a556-48ee-b69c-a37e5723acfa",
   "metadata": {},
   "outputs": [],
   "source": [
    "# Q4. Write a code to find the following statistical measurements for the above dataframe df1:\n",
    "#(i) mean of each and every column present in the dataframe.\n",
    "#(ii) standard deviation of column, ‘column_2’"
   ]
  },
  {
   "cell_type": "code",
   "execution_count": 41,
   "id": "c2ceddc0-f7ed-453f-8de4-015c7e790c6d",
   "metadata": {},
   "outputs": [
    {
     "name": "stdout",
     "output_type": "stream",
     "text": [
      "Mean of each column:\n",
      "column_1     3.00\n",
      "column_2     3.32\n",
      "column_3    30.00\n",
      "dtype: float64\n",
      "\n",
      "Standard Deviation of 'column_2': 1.0986355173577813\n"
     ]
    }
   ],
   "source": [
    "import pandas as pd\n",
    "\n",
    "# Assuming you have a DataFrame named df1\n",
    "# Create a sample DataFrame for demonstration\n",
    "data = {'column_1': [1, 2, 3, 4, 5],\n",
    "        'column_2': [2.1, 2.5, 3.2, 4.0, 4.8],\n",
    "        'column_3': [10, 20, 30, 40, 50]}\n",
    "df1 = pd.DataFrame(data)\n",
    "\n",
    "# (i) Mean of each and every column\n",
    "column_means = df1.mean()\n",
    "print(\"Mean of each column:\")\n",
    "print(column_means)\n",
    "\n",
    "# (ii) Standard deviation of column 'column_2'\n",
    "std_dev_column_2 = df1['column_2'].std()\n",
    "print(\"\\nStandard Deviation of 'column_2':\", std_dev_column_2)\n"
   ]
  },
  {
   "cell_type": "code",
   "execution_count": 42,
   "id": "0412d854-3f4b-48f5-922f-f80a9ef39e4c",
   "metadata": {},
   "outputs": [],
   "source": [
    "# Q5. Replace the data present in the second row of column, ‘column_2’ by a string variable then find the mean of column, column_2.\n",
    "#If you are getting errors in executing it then explain why.\n",
    "#[Hint: To replace the data use df1.loc[] and equate this to string data of your choice.]"
   ]
  },
  {
   "cell_type": "markdown",
   "id": "ef2c4fc0-cf90-4333-989c-83eb564d449c",
   "metadata": {},
   "source": [
    "When you run this code, you will likely encounter a TypeError because you are trying to assign a string value ('string_value') to a column ('column_2') that originally contains floating-point numbers. Pandas enforces data type consistency within columns, so attempting to mix data types in the same column is not allowed.\n",
    "\n",
    "If you need to replace the data with a string and still want to calculate the mean, you would need to convert the entire column to a data type that can accommodate both strings and numbers (e.g., object dtype). However, this would not be a recommended practice for typical numerical data analysis because it would make it challenging to perform mathematical operations on the column consistently."
   ]
  },
  {
   "cell_type": "raw",
   "id": "63c6f14c-9af5-4ef9-97fd-32baeb006d6a",
   "metadata": {},
   "source": [
    "import pandas as pd\n",
    "\n",
    "# Create a sample DataFrame for demonstration\n",
    "data = {'column_1': [1, 2, 3, 4, 5],\n",
    "        'column_2': [2.1, 2.5, 3.2, 4.0, 4.8],\n",
    "        'column_3': [10, 20, 30, 40, 50]}\n",
    "df1 = pd.DataFrame(data)\n",
    "\n",
    "# Attempt to replace the data in the second row of 'column_2' with a string\n",
    "df1.loc[1, 'column_2'] = 'string_value'\n",
    "\n",
    "# Calculate the mean of 'column_2'\n",
    "column_2_mean = df1['column_2'].mean()\n",
    "print(\"Mean of 'column_2':\", column_2_mean)\n"
   ]
  },
  {
   "cell_type": "code",
   "execution_count": 43,
   "id": "7c972f86-0fd2-49ea-b301-a9d22a398616",
   "metadata": {},
   "outputs": [],
   "source": [
    "# Q6. What do you understand about the windows function in pandas and list the types of windows functions?"
   ]
  },
  {
   "cell_type": "markdown",
   "id": "7f0adae0-c6f7-4915-9f07-c83bbaf3f00a",
   "metadata": {},
   "source": [
    "In pandas, the \"window functions\" or \"rolling functions\" are used for performing calculations on a rolling or sliding window of data within a DataFrame or a Series. These functions are commonly applied to time series data or data that has an inherent order. Window functions allow you to compute aggregated statistics or other transformations for a specified window of data points as it moves through the data.\n",
    "\n",
    "The primary use cases for window functions include:\n",
    "\n",
    "1. **Moving Averages**: Calculating the average of a specific window of data points as it slides through the dataset. It's commonly used for smoothing time series data.\n",
    "\n",
    "2. **Cumulative Aggregations**: Calculating cumulative sums, cumulative products, or other cumulative statistics over a window of data.\n",
    "\n",
    "3. **Ranking**: Assigning rankings to data points within a window based on a specified criterion.\n",
    "\n",
    "4. **Expanding Windows**: Performing calculations on a growing window of data as it progresses through the dataset.\n",
    "\n",
    "5. **Time-Based Operations**: Handling time-based data, such as resampling or time shifting.\n",
    "\n",
    "6. **Custom Functions**: Applying custom aggregation functions to a window of data.\n",
    "\n",
    "Types of Window Functions in pandas:\n",
    "\n",
    "1. **Rolling Functions**: These functions are used for rolling window operations, where the window size is defined by a fixed number of data points. Some common rolling functions include:\n",
    "   - `rolling().mean()`: Calculates the rolling mean.\n",
    "   - `rolling().sum()`: Calculates the rolling sum.\n",
    "   - `rolling().std()`: Calculates the rolling standard deviation.\n",
    "\n",
    "2. **Expanding Functions**: These functions perform calculations on an expanding window, where the window size grows as more data points are included. Some common expanding functions include:\n",
    "   - `expanding().mean()`: Calculates the expanding mean.\n",
    "   - `expanding().sum()`: Calculates the expanding sum.\n",
    "   - `expanding().std()`: Calculates the expanding standard deviation.\n",
    "\n",
    "3. **Exponentially Weighted Moving Averages (EWMA)**: These functions compute exponentially weighted statistics, giving more weight to recent data points. Some common EWMA functions include:\n",
    "   - `ewm().mean()`: Calculates the exponentially weighted moving average.\n",
    "\n",
    "4. **Ranking Functions**: These functions assign rankings to data points within a window based on specified criteria. Some common ranking functions include:\n",
    "   - `rank()`: Calculates the rank of data points within a window.\n",
    "\n",
    "5. **Time-Based Functions**: Functions for handling time-based operations, such as resampling and time shifting.\n",
    "\n",
    "Here's a brief overview of how to use rolling and expanding window functions:\n",
    "\n",
    "```python\n",
    "# Rolling window mean\n",
    "df['rolling_mean'] = df['column_name'].rolling(window=3).mean()\n",
    "\n",
    "# Expanding window sum\n",
    "df['expanding_sum'] = df['column_name'].expanding().sum()\n",
    "```\n",
    "\n",
    "Window functions are powerful tools for analyzing and transforming time series data or other ordered data, enabling you to gain insights into trends and patterns within your data."
   ]
  },
  {
   "cell_type": "code",
   "execution_count": 45,
   "id": "5645a0bb-1d48-4db3-a4e1-a96c32a34758",
   "metadata": {},
   "outputs": [],
   "source": [
    "# Q7. Write a code to print only the current month and year at the time of answering this question.\n",
    "#[Hint: Use pandas.datetime function]"
   ]
  },
  {
   "cell_type": "code",
   "execution_count": 46,
   "id": "13b277bb-4aac-45a4-9abf-f8019b6ee325",
   "metadata": {},
   "outputs": [
    {
     "name": "stdout",
     "output_type": "stream",
     "text": [
      "Current Month: September\n",
      "Current Year: 2023\n"
     ]
    }
   ],
   "source": [
    "import pandas as pd\n",
    "from datetime import datetime\n",
    "\n",
    "# Get the current date and time\n",
    "current_datetime = datetime.now()\n",
    "\n",
    "# Extract the current month and year from the current date\n",
    "current_month = current_datetime.month\n",
    "current_year = current_datetime.year\n",
    "\n",
    "# Create a pandas datetime object\n",
    "current_date = pd.to_datetime(f\"{current_year}-{current_month}-01\")\n",
    "\n",
    "# Print the current month and year\n",
    "print(\"Current Month:\", current_date.strftime(\"%B\"))\n",
    "print(\"Current Year:\", current_year)\n"
   ]
  },
  {
   "cell_type": "code",
   "execution_count": 47,
   "id": "77c09b75-595e-47c4-bbd4-d58e0a05ce85",
   "metadata": {},
   "outputs": [],
   "source": [
    "# Q8. Write a Python program that takes in two dates as input (in the format YYYY-MM-DD) and calculates the difference between them in days, hours, and minutes using Pandas time delta. The program should prompt the user to enter the dates and display the result."
   ]
  },
  {
   "cell_type": "code",
   "execution_count": 50,
   "id": "f0b45495-b6b5-4eaf-abbf-8aa02de01659",
   "metadata": {},
   "outputs": [
    {
     "name": "stdin",
     "output_type": "stream",
     "text": [
      "Enter the start date (YYYY-MM-DD):  2003-10-08\n",
      "Enter the end date (YYYY-MM-DD):  1993-06-01\n"
     ]
    },
    {
     "name": "stdout",
     "output_type": "stream",
     "text": [
      "Time Difference: -3781 days, 0 hours, 0 minutes\n"
     ]
    }
   ],
   "source": [
    "import pandas as pd\n",
    "\n",
    "# Function to calculate the time difference\n",
    "def calculate_time_difference(start_date, end_date):\n",
    "    try:\n",
    "        # Convert input strings to datetime objects\n",
    "        start_date = pd.to_datetime(start_date)\n",
    "        end_date = pd.to_datetime(end_date)\n",
    "\n",
    "        # Calculate the time difference\n",
    "        time_difference = end_date - start_date\n",
    "\n",
    "        # Extract days, hours, and minutes\n",
    "        days = time_difference.days\n",
    "        hours, remainder = divmod(time_difference.seconds, 3600)\n",
    "        minutes = remainder // 60\n",
    "\n",
    "        return days, hours, minutes\n",
    "\n",
    "    except ValueError:\n",
    "        return None\n",
    "\n",
    "# Get user input for two dates\n",
    "while True:\n",
    "    start_date = input(\"Enter the start date (YYYY-MM-DD): \")\n",
    "    end_date = input(\"Enter the end date (YYYY-MM-DD): \")\n",
    "\n",
    "    time_difference = calculate_time_difference(start_date, end_date)\n",
    "\n",
    "    if time_difference is not None:\n",
    "        break\n",
    "    else:\n",
    "        print(\"Invalid date format. Please use the format YYYY-MM-DD.\")\n",
    "\n",
    "# Display the result\n",
    "days, hours, minutes = time_difference\n",
    "print(f\"Time Difference: {days} days, {hours} hours, {minutes} minutes\")\n"
   ]
  },
  {
   "cell_type": "code",
   "execution_count": 51,
   "id": "627d0c01-05c7-41b4-bbbe-126187486831",
   "metadata": {},
   "outputs": [],
   "source": [
    "# Q9. Write a Python program that reads a CSV file containing categorical data and converts a specified column to a categorical data type. The program should prompt the user to enter the file path, column name, and category order, and then display the sorted data."
   ]
  },
  {
   "cell_type": "code",
   "execution_count": 54,
   "id": "4d7d7f22-f489-47f9-8a32-e4beeae8b4c6",
   "metadata": {},
   "outputs": [
    {
     "name": "stdin",
     "output_type": "stream",
     "text": [
      "Enter the file path (e.g., 'data.csv'):  kopvdf\n",
      "Enter the column name to convert to categorical:  dfiodf\n",
      "Enter the category order (comma-separated, e.g., 'Low,Medium,High'):  vfdo\n"
     ]
    },
    {
     "name": "stdout",
     "output_type": "stream",
     "text": [
      "File not found.\n"
     ]
    }
   ],
   "source": [
    "import pandas as pd\n",
    "\n",
    "# Function to read and process the CSV file\n",
    "def process_csv(file_path, column_name, category_order):\n",
    "    try:\n",
    "        # Read the CSV file into a DataFrame\n",
    "        df = pd.read_csv(file_path)\n",
    "\n",
    "        # Convert the specified column to a categorical data type with the specified category order\n",
    "        df[column_name] = pd.Categorical(df[column_name], categories=category_order, ordered=True)\n",
    "\n",
    "        # Sort the DataFrame based on the specified column\n",
    "        df_sorted = df.sort_values(by=[column_name])\n",
    "\n",
    "        # Display the sorted DataFrame\n",
    "        print(\"Sorted Data:\")\n",
    "        print(df_sorted)\n",
    "\n",
    "    except FileNotFoundError:\n",
    "        print(\"File not found.\")\n",
    "    except KeyError:\n",
    "        print(\"Column not found in the CSV file.\")\n",
    "\n",
    "# Get user input for file path, column name, and category order\n",
    "file_path = input(\"Enter the file path (e.g., 'data.csv'): \")\n",
    "column_name = input(\"Enter the column name to convert to categorical: \")\n",
    "category_order_str = input(\"Enter the category order (comma-separated, e.g., 'Low,Medium,High'): \")\n",
    "\n",
    "# Split the category order string into a list\n",
    "category_order = [category.strip() for category in category_order_str.split(',')]\n",
    "\n",
    "# Call the function to process the CSV file\n",
    "process_csv(file_path, column_name, category_order)\n"
   ]
  },
  {
   "cell_type": "code",
   "execution_count": null,
   "id": "de0e03f8-0f52-41e8-918b-e716d05b8f61",
   "metadata": {},
   "outputs": [],
   "source": []
  },
  {
   "cell_type": "code",
   "execution_count": null,
   "id": "2c0cdd70-595b-4ade-872e-0e330e1c9a37",
   "metadata": {},
   "outputs": [],
   "source": [
    "import pandas as pd\n",
    "import matplotlib.pyplot as plt\n",
    "\n",
    "# Function to read CSV file and create a stacked bar chart\n",
    "def visualize_sales_data(file_path):\n",
    "    try:\n",
    "        # Read the CSV file into a DataFrame\n",
    "        df = pd.read_csv(file_path)\n",
    "\n",
    "        # Group the data by product category and sum the sales over time\n",
    "        category_sales = df.groupby('ProductCategory').sum()\n",
    "\n",
    "        # Transpose the DataFrame for plotting\n",
    "        category_sales = category_sales.T\n",
    "\n",
    "        # Create a stacked bar chart\n",
    "        ax = category_sales.plot(kind='bar', stacked=True, figsize=(10, 6))\n",
    "\n",
    "        # Set chart labels and title\n",
    "        plt.xlabel('Time')\n",
    "        plt.ylabel('Sales')\n",
    "        plt.title('Stacked Bar Chart of Product Category Sales Over Time')\n",
    "\n",
    "        # Show the legend\n",
    "        plt.legend(title='Product Category', bbox_to_anchor=(1.05, 1), loc='upper left')\n",
    "\n",
    "        # Display the chart\n",
    "        plt.show()\n",
    "\n",
    "    except FileNotFoundError:\n",
    "        print(\"File not found.\")\n",
    "\n",
    "# Get user input for the file path\n",
    "file_path = input(\"Enter the file path (e.g., 'sales_data.csv'): \")\n",
    "\n",
    "# Call the function to visualize sales data\n",
    "visualize_sales_data(file_path)\n"
   ]
  },
  {
   "cell_type": "code",
   "execution_count": null,
   "id": "12f89714-92d1-4d97-807c-2789f2a2430c",
   "metadata": {},
   "outputs": [],
   "source": []
  },
  {
   "cell_type": "code",
   "execution_count": null,
   "id": "76fd29f2-dd21-41cd-a5b6-0e59b2ba381b",
   "metadata": {},
   "outputs": [],
   "source": []
  },
  {
   "cell_type": "code",
   "execution_count": null,
   "id": "947c3d02-f2bf-42eb-8f8e-4ff45f93685c",
   "metadata": {},
   "outputs": [],
   "source": []
  },
  {
   "cell_type": "code",
   "execution_count": null,
   "id": "2051dea3-226e-43bb-8ef0-d506a87a9374",
   "metadata": {},
   "outputs": [],
   "source": []
  },
  {
   "cell_type": "code",
   "execution_count": null,
   "id": "fadae81f-638e-4a68-9564-9528e1f2353e",
   "metadata": {},
   "outputs": [],
   "source": []
  }
 ],
 "metadata": {
  "kernelspec": {
   "display_name": "Python 3 (ipykernel)",
   "language": "python",
   "name": "python3"
  },
  "language_info": {
   "codemirror_mode": {
    "name": "ipython",
    "version": 3
   },
   "file_extension": ".py",
   "mimetype": "text/x-python",
   "name": "python",
   "nbconvert_exporter": "python",
   "pygments_lexer": "ipython3",
   "version": "3.10.8"
  }
 },
 "nbformat": 4,
 "nbformat_minor": 5
}
